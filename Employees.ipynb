{
 "cells": [
  {
   "cell_type": "code",
   "execution_count": 1,
   "id": "1175feab-47e2-4880-9878-d7239125c0cf",
   "metadata": {},
   "outputs": [],
   "source": [
    "from sqlalchemy import create_engine,text"
   ]
  },
  {
   "cell_type": "code",
   "execution_count": 2,
   "id": "162b87d8-059a-48cd-83e2-6efb90ae27e3",
   "metadata": {},
   "outputs": [],
   "source": [
    "from sqlalchemy.engine import URL"
   ]
  },
  {
   "cell_type": "code",
   "execution_count": 5,
   "id": "e4c4789c-7168-4816-bfad-7f70efc892e8",
   "metadata": {},
   "outputs": [],
   "source": [
    "import pandas as pd"
   ]
  },
  {
   "cell_type": "code",
   "execution_count": 6,
   "id": "96780e1c-62cd-4206-9e78-35269af42ef5",
   "metadata": {},
   "outputs": [],
   "source": [
    "conn_str = URL.create(\n",
    "    drivername=\"mysql+pymysql\",\n",
    "    username=\"root\",\n",
    "    password=\"Nanu@2903\",\n",
    "    host = \"localhost\",\n",
    "    port = 3306,\n",
    "    database=\"employees\"\n",
    ")"
   ]
  },
  {
   "cell_type": "code",
   "execution_count": 7,
   "id": "124a4821-6997-4008-98ea-4e56cc2c77ce",
   "metadata": {},
   "outputs": [],
   "source": [
    "engine = create_engine(conn_str)"
   ]
  },
  {
   "cell_type": "code",
   "execution_count": 8,
   "id": "0a0810cc-78a0-43ea-9251-d38daf84bb41",
   "metadata": {},
   "outputs": [],
   "source": [
    "employees= engine.connect()"
   ]
  },
  {
   "cell_type": "code",
   "execution_count": 9,
   "id": "50d88824-839c-46d4-975f-07277be8eb4a",
   "metadata": {},
   "outputs": [
    {
     "data": {
      "text/html": [
       "<div>\n",
       "<style scoped>\n",
       "    .dataframe tbody tr th:only-of-type {\n",
       "        vertical-align: middle;\n",
       "    }\n",
       "\n",
       "    .dataframe tbody tr th {\n",
       "        vertical-align: top;\n",
       "    }\n",
       "\n",
       "    .dataframe thead th {\n",
       "        text-align: right;\n",
       "    }\n",
       "</style>\n",
       "<table border=\"1\" class=\"dataframe\">\n",
       "  <thead>\n",
       "    <tr style=\"text-align: right;\">\n",
       "      <th></th>\n",
       "      <th>Tables_in_employees</th>\n",
       "    </tr>\n",
       "  </thead>\n",
       "  <tbody>\n",
       "    <tr>\n",
       "      <th>0</th>\n",
       "      <td>current_dept_emp</td>\n",
       "    </tr>\n",
       "    <tr>\n",
       "      <th>1</th>\n",
       "      <td>departments</td>\n",
       "    </tr>\n",
       "    <tr>\n",
       "      <th>2</th>\n",
       "      <td>dept_emp</td>\n",
       "    </tr>\n",
       "    <tr>\n",
       "      <th>3</th>\n",
       "      <td>dept_emp_latest_date</td>\n",
       "    </tr>\n",
       "    <tr>\n",
       "      <th>4</th>\n",
       "      <td>dept_manager</td>\n",
       "    </tr>\n",
       "    <tr>\n",
       "      <th>5</th>\n",
       "      <td>employees</td>\n",
       "    </tr>\n",
       "    <tr>\n",
       "      <th>6</th>\n",
       "      <td>salaries</td>\n",
       "    </tr>\n",
       "    <tr>\n",
       "      <th>7</th>\n",
       "      <td>titles</td>\n",
       "    </tr>\n",
       "  </tbody>\n",
       "</table>\n",
       "</div>"
      ],
      "text/plain": [
       "    Tables_in_employees\n",
       "0      current_dept_emp\n",
       "1           departments\n",
       "2              dept_emp\n",
       "3  dept_emp_latest_date\n",
       "4          dept_manager\n",
       "5             employees\n",
       "6              salaries\n",
       "7                titles"
      ]
     },
     "execution_count": 9,
     "metadata": {},
     "output_type": "execute_result"
    }
   ],
   "source": [
    "pd.read_sql(\"show tables\",employees)"
   ]
  },
  {
   "cell_type": "code",
   "execution_count": 107,
   "id": "28022dab-ea39-457c-9ac2-76d0e7ba7052",
   "metadata": {},
   "outputs": [],
   "source": [
    "dept_emp_de = pd.read_sql(\"select * from dept_emp\",employees)          #(emp_no, dept_no, from_date, to_date)4\n",
    "departments_d = pd.read_sql(\"select * from departments\",employees)        #(dept_no, dept_name)\n",
    "employees_e = pd.read_sql(\"select * from employees\",employees)          #(emp_no, first_name, last_name, gender, birth_date)\n",
    "dept_manager_dm = pd.read_sql(\"select * from dept_manager\",employees)      #(emp_no, dept_no, from_date, to_date)\n",
    "salaries_s = pd.read_sql(\"select * from salaries\",employees)           #(emp_no, salary, from_date, to_date)\n",
    "titles_t = pd.read_sql(\"select * from titles\",employees)             #(emp_no, title, from_date, to_date)"
   ]
  },
  {
   "cell_type": "code",
   "execution_count": null,
   "id": "435a8a91-f9b1-4be7-bfbd-45cadff55d84",
   "metadata": {},
   "outputs": [],
   "source": []
  },
  {
   "cell_type": "code",
   "execution_count": 23,
   "id": "1f99b1a6-81ae-45b8-9463-0d73345f12f0",
   "metadata": {},
   "outputs": [],
   "source": [
    "#Q.1 List all employees along with their department names."
   ]
  },
  {
   "cell_type": "code",
   "execution_count": 24,
   "id": "88937847-1400-411d-b0c5-010c297ddcd2",
   "metadata": {},
   "outputs": [
    {
     "name": "stdout",
     "output_type": "stream",
     "text": [
      "        emp_no first_name last_name        dept_name\n",
      "0        10001     Georgi   Facello      Development\n",
      "1        10002    Bezalel    Simmel            Sales\n",
      "2        10003      Parto   Bamford       Production\n",
      "3        10004  Chirstian   Koblick       Production\n",
      "4        10005    Kyoichi  Maliniak  Human Resources\n",
      "...        ...        ...       ...              ...\n",
      "331598  499995     Dekang  Lichtner       Production\n",
      "331599  499996       Zito      Baaz       Production\n",
      "331600  499997    Berhard    Lenart      Development\n",
      "331601  499998   Patricia   Breugel          Finance\n",
      "331602  499999     Sachin   Tsukuda       Production\n",
      "\n",
      "[331603 rows x 4 columns]\n"
     ]
    }
   ],
   "source": [
    "emp_dept = pd.merge(employees_e, dept_emp_de, on=\"emp_no\")\n",
    "emp_dept_names = pd.merge(emp_dept, departments_d, on=\"dept_no\")\n",
    "\n",
    "final_result = emp_dept_names[[\"emp_no\", \"first_name\", \"last_name\", \"dept_name\"]]\n",
    "print(final_result)"
   ]
  },
  {
   "cell_type": "code",
   "execution_count": null,
   "id": "94473c49-32a3-4404-988d-f3138606a82b",
   "metadata": {},
   "outputs": [],
   "source": []
  },
  {
   "cell_type": "code",
   "execution_count": 26,
   "id": "17e9525d-23a2-4b8d-8b7c-ddecbd4c02ad",
   "metadata": {},
   "outputs": [],
   "source": [
    "#Q.2 Find the total number of employees in each department."
   ]
  },
  {
   "cell_type": "code",
   "execution_count": 47,
   "id": "35b841f9-9438-4ea0-83db-5668de785153",
   "metadata": {},
   "outputs": [
    {
     "name": "stdout",
     "output_type": "stream",
     "text": [
      "            dept_name  total_emps\n",
      "0    Customer Service       23580\n",
      "1         Development       85707\n",
      "2             Finance       17346\n",
      "3     Human Resources       17786\n",
      "4           Marketing       20211\n",
      "5          Production       73485\n",
      "6  Quality Management       20117\n",
      "7            Research       21126\n",
      "8               Sales       52245\n"
     ]
    }
   ],
   "source": [
    "a = pd.merge(dept_emp_de, departments_d, on=\"dept_no\")\n",
    "emp_count = a.groupby(\"dept_name\")[\"emp_no\"].count().reset_index()\n",
    "\n",
    "emp_count.rename(columns={\"emp_no\": \"total_emps\"}, inplace=True)\n",
    "print(emp_count)"
   ]
  },
  {
   "cell_type": "code",
   "execution_count": null,
   "id": "c76871d4-e5d8-4920-b0c5-2ca085176815",
   "metadata": {},
   "outputs": [],
   "source": []
  },
  {
   "cell_type": "code",
   "execution_count": null,
   "id": "729b7266-ba23-411f-87a5-a1a4a2bd2ef5",
   "metadata": {},
   "outputs": [],
   "source": [
    "#Q.3 Get the details of employees who are currently working in a department (i.e., to_date = '9999-01-01')."
   ]
  },
  {
   "cell_type": "code",
   "execution_count": 59,
   "id": "0eb87394-4b47-4f07-8868-ca28bcb06101",
   "metadata": {},
   "outputs": [
    {
     "name": "stdout",
     "output_type": "stream",
     "text": [
      "        emp_no first_name last_name gender        dept_name     to_date\n",
      "0        10001     Georgi   Facello      M      Development  9999-01-01\n",
      "1        10002    Bezalel    Simmel      F            Sales  9999-01-01\n",
      "2        10003      Parto   Bamford      M       Production  9999-01-01\n",
      "3        10004  Chirstian   Koblick      M       Production  9999-01-01\n",
      "4        10005    Kyoichi  Maliniak      M  Human Resources  9999-01-01\n",
      "...        ...        ...       ...    ...              ...         ...\n",
      "331598  499995     Dekang  Lichtner      F       Production  9999-01-01\n",
      "331599  499996       Zito      Baaz      M       Production  9999-01-01\n",
      "331600  499997    Berhard    Lenart      M      Development  9999-01-01\n",
      "331601  499998   Patricia   Breugel      M          Finance  9999-01-01\n",
      "331602  499999     Sachin   Tsukuda      M       Production  9999-01-01\n",
      "\n",
      "[331603 rows x 6 columns]\n"
     ]
    }
   ],
   "source": [
    "curr_emp = pd.merge(dept_emp_de, employees_e, on=\"emp_no\")\n",
    "curr_emp = pd.merge(curr_emp, departments_d, on=\"dept_no\")\n",
    "curr_dept_emp = dept_emp_de[dept_emp_de[\"to_date\"] == (\"9999-01-01\")]\n",
    "result = curr_emp[[\"emp_no\", \"first_name\", \"last_name\", \"gender\", \"dept_name\",\"to_date\"]]\n",
    "print(result)"
   ]
  },
  {
   "cell_type": "code",
   "execution_count": null,
   "id": "727cc955-94bd-43b9-afe4-00034f12f8c2",
   "metadata": {},
   "outputs": [],
   "source": []
  },
  {
   "cell_type": "code",
   "execution_count": null,
   "id": "c0da4e44-4544-4aab-bd3a-a4a020f6ea89",
   "metadata": {},
   "outputs": [],
   "source": [
    "#Q.4 Calculate average salary of employees department-wise."
   ]
  },
  {
   "cell_type": "code",
   "execution_count": 45,
   "id": "7c367832-af4b-456f-affb-81373d1a1330",
   "metadata": {},
   "outputs": [
    {
     "name": "stdout",
     "output_type": "stream",
     "text": [
      "           Department  Average_Salary\n",
      "0    Customer Service    58755.440627\n",
      "1         Development    59503.574995\n",
      "2             Finance    70159.466220\n",
      "3     Human Resources    55353.520326\n",
      "4           Marketing    71901.723674\n",
      "5          Production    59539.789908\n",
      "6  Quality Management    57294.657039\n",
      "7            Research    59866.243527\n",
      "8               Sales    80776.620397\n"
     ]
    }
   ],
   "source": [
    "emp_salary = pd.merge(dept_emp_de, salaries_s, on=\"emp_no\")\n",
    "emp_sal_dept = pd.merge(emp_salary, departments_d, on=\"dept_no\")\n",
    "avg_sal_by_dept = emp_sal_dept.groupby(\"dept_name\")[\"salary\"].mean().reset_index()\n",
    "avg_sal_by_dept.columns = [\"Department\", \"Average_Salary\"]\n",
    "print(avg_sal_by_dept)"
   ]
  },
  {
   "cell_type": "code",
   "execution_count": null,
   "id": "8f7c5c09-0d42-43b9-9f28-1843264c2898",
   "metadata": {},
   "outputs": [],
   "source": []
  },
  {
   "cell_type": "code",
   "execution_count": null,
   "id": "9c957a93-1639-4718-b4fc-ae5fb09279ee",
   "metadata": {},
   "outputs": [],
   "source": [
    "#Q.5 List employees with their current job title and current salary."
   ]
  },
  {
   "cell_type": "code",
   "execution_count": 51,
   "id": "fb30af7e-5adc-4ae7-bc8f-f6a973cd6dcc",
   "metadata": {},
   "outputs": [
    {
     "name": "stdout",
     "output_type": "stream",
     "text": [
      "         emp_no first_name last_name            title  salary\n",
      "0         10001     Georgi   Facello  Senior Engineer   60117\n",
      "1         10001     Georgi   Facello  Senior Engineer   62102\n",
      "2         10001     Georgi   Facello  Senior Engineer   66074\n",
      "3         10001     Georgi   Facello  Senior Engineer   66596\n",
      "4         10001     Georgi   Facello  Senior Engineer   66961\n",
      "...         ...        ...       ...              ...     ...\n",
      "1580439  201771   Fumitaka   Gammage  Senior Engineer   60056\n",
      "1580440  201771   Fumitaka   Gammage         Engineer   62899\n",
      "1580441  201771   Fumitaka   Gammage  Senior Engineer   62899\n",
      "1580442  201771   Fumitaka   Gammage         Engineer   66792\n",
      "1580443  201771   Fumitaka   Gammage  Senior Engineer   66792\n",
      "\n",
      "[1580444 rows x 5 columns]\n"
     ]
    }
   ],
   "source": [
    "curr_salary = salaries_s[salaries_s[\"to_date\"]==\"9999-01-01\"]\n",
    "curr_title  = titles_t[titles_t[\"to_date\"]==\"9999-01-01\"]\n",
    "emp_salary = pd.merge(employees_e, salaries_s, on = \"emp_no\")\n",
    "emp_salary_title = pd.merge(emp_salary, titles_t, on = \"emp_no\")\n",
    "result = emp_salary_title[[\"emp_no\", \"first_name\", \"last_name\", \"title\", \"salary\"]]\n",
    "print(result)"
   ]
  },
  {
   "cell_type": "code",
   "execution_count": null,
   "id": "fea1193a-88c9-40c0-8435-fe4297d618cf",
   "metadata": {},
   "outputs": [],
   "source": []
  },
  {
   "cell_type": "code",
   "execution_count": null,
   "id": "011f05f4-7272-418e-9b73-2c7944879df2",
   "metadata": {},
   "outputs": [],
   "source": [
    "#Q.6 Find employees who have worked in more than one department."
   ]
  },
  {
   "cell_type": "code",
   "execution_count": 75,
   "id": "0514713f-5e20-42de-832a-bc2b5f2017fa",
   "metadata": {},
   "outputs": [
    {
     "name": "stdout",
     "output_type": "stream",
     "text": [
      "       emp_no    first_name last_name\n",
      "0       10010     Duangkaew  Piveteau\n",
      "1       10018      Kazuhide      Peha\n",
      "2       10029         Otmar    Herbst\n",
      "3       10040         Weiyi   Meriste\n",
      "4       10050       Yinghua    Dredge\n",
      "...       ...           ...       ...\n",
      "31574  499955  Kankanahalli    Zucker\n",
      "31575  499964         Randy    Matzov\n",
      "31576  499975        Masali   Chorvat\n",
      "31577  499983           Uri    Juneja\n",
      "31578  499992        Siamak  Salverda\n",
      "\n",
      "[31579 rows x 3 columns]\n"
     ]
    }
   ],
   "source": [
    "dept_count = dept_emp_de.groupby(\"emp_no\")[\"dept_no\"].nunique().reset_index()\n",
    "multi_dept_emps = dept_count[dept_count[\"dept_no\"] > 1]\n",
    "multi_dept_emps2 = pd.merge(multi_dept_emps, employees_e, on=\"emp_no\", how=\"inner\")\n",
    "result = multi_dept_emps2[[\"emp_no\", \"first_name\", \"last_name\"]]\n",
    "print(result)"
   ]
  },
  {
   "cell_type": "code",
   "execution_count": null,
   "id": "9cb0b30e-3da8-4f2f-8af2-af8fa877293d",
   "metadata": {},
   "outputs": [],
   "source": []
  },
  {
   "cell_type": "code",
   "execution_count": null,
   "id": "bcaf67a4-d232-4557-b8ce-8af2ebef6e63",
   "metadata": {},
   "outputs": [],
   "source": [
    "#Q.7 Get all female employees working in the 'Sales' department.\n"
   ]
  },
  {
   "cell_type": "code",
   "execution_count": 89,
   "id": "13f97cdd-6274-460d-baf0-f80e09fea82e",
   "metadata": {},
   "outputs": [
    {
     "name": "stdout",
     "output_type": "stream",
     "text": [
      "        emp_no first_name last_name gender dept_name\n",
      "1        10002    Bezalel    Simmel      F     Sales\n",
      "44       10041        Uri    Lenart      F     Sales\n",
      "57       10053     Sanjiv  Zschoche      F     Sales\n",
      "94       10087    Xinglin   Eugenio      F     Sales\n",
      "95       10088   Jungsoon  Syrzycki      F     Sales\n",
      "...        ...        ...       ...    ...       ...\n",
      "331559  499960     Gaetan  Veldwijk      F     Sales\n",
      "331566  499966    Mihalis  Crabtree      F     Sales\n",
      "331588  499986     Nathan     Ranta      F     Sales\n",
      "331589  499987      Rimli    Dusink      F     Sales\n",
      "331590  499988   Bangqing   Kleiser      F     Sales\n",
      "\n",
      "[20854 rows x 5 columns]\n"
     ]
    }
   ],
   "source": [
    "emp_dept = pd.merge(employees_e, dept_emp_de, on=\"emp_no\")\n",
    "emp_dept2 = pd.merge(emp_dept, departments_d, on=\"dept_no\")\n",
    "female_emp = emp_dept2[(emp_dept2[\"gender\"]==\"F\") & (emp_dept2[\"dept_name\"]==\"Sales\")]\n",
    "result = female_emp[[\"emp_no\", \"first_name\", \"last_name\", \"gender\", \"dept_name\"]]\n",
    "print(result)"
   ]
  },
  {
   "cell_type": "code",
   "execution_count": null,
   "id": "d2c8788f-e67d-43a7-97ca-5b82fe7eb79d",
   "metadata": {},
   "outputs": [],
   "source": []
  },
  {
   "cell_type": "code",
   "execution_count": null,
   "id": "9663146d-6171-4fa0-9ff9-8386dba9a744",
   "metadata": {},
   "outputs": [],
   "source": [
    "#Q.8 Find the oldest employee in the company."
   ]
  },
  {
   "cell_type": "code",
   "execution_count": 135,
   "id": "ddb395ce-d65c-4785-9c2d-492357f822a4",
   "metadata": {},
   "outputs": [
    {
     "name": "stdout",
     "output_type": "stream",
     "text": [
      "Oldest Employee Details:\n",
      "Emp No     : 65308\n",
      "Name       : Jouni Pocchiola\n",
      "Gender     : M\n",
      "Birth Date : 1952-02-01\n"
     ]
    }
   ],
   "source": [
    "employees_e['birth_date'] = pd.to_datetime(employees_e['birth_date'])\n",
    "\n",
    "oldest_employee = employees_e.loc[employees_e['birth_date'].idxmin()]\n",
    "\n",
    "print(\"Oldest Employee Details:\")\n",
    "print(f\"Emp No     : {oldest_employee['emp_no']}\")\n",
    "print(f\"Name       : {oldest_employee['first_name']} {oldest_employee['last_name']}\")\n",
    "print(f\"Gender     : {oldest_employee['gender']}\")\n",
    "print(f\"Birth Date : {oldest_employee['birth_date'].date()}\")"
   ]
  },
  {
   "cell_type": "code",
   "execution_count": null,
   "id": "4312eaff-f96b-48c8-af8f-892942c5dcb4",
   "metadata": {},
   "outputs": [],
   "source": []
  },
  {
   "cell_type": "code",
   "execution_count": null,
   "id": "68c7589b-987a-48e1-aabe-68b4d84d36fa",
   "metadata": {},
   "outputs": [],
   "source": [
    "#Q.9 Sort employees by highest salary."
   ]
  },
  {
   "cell_type": "code",
   "execution_count": 95,
   "id": "74064eee-8fcb-4eb8-aa05-e2b28b673eec",
   "metadata": {},
   "outputs": [
    {
     "name": "stdout",
     "output_type": "stream",
     "text": [
      "        emp_no  birth_date  first_name  last_name gender   hire_date  salary  \\\n",
      "318728   43624  1953-11-14    Tokuyasu      Pesch      M  1985-03-26  158220   \n",
      "318727   43624  1953-11-14    Tokuyasu      Pesch      M  1985-03-26  157821   \n",
      "360032   47978  1956-03-24      Xiahua   Whitcomb      M  1985-07-18  155709   \n",
      "943635  109334  1955-08-02     Tsutomu  Alameldin      M  1985-02-15  155377   \n",
      "943637  109334  1955-08-02     Tsutomu  Alameldin      M  1985-02-15  155190   \n",
      "...        ...         ...         ...        ...    ...         ...     ...   \n",
      "234513   34707  1955-10-26  Jacqueline      Syang      M  1985-07-23   38851   \n",
      "383554   50419  1954-08-11       Vishu      Biran      F  1993-09-23   38850   \n",
      "514589   64198  1960-01-04   Mechthild   Langford      M  1985-10-21   38836   \n",
      "55309    15830  1963-10-22       Yurij   Narwekar      M  1993-09-14   38812   \n",
      "372370   49239  1962-01-18      Fumiya       Unno      M  1992-09-18   38735   \n",
      "\n",
      "         from_date     to_date  \n",
      "318728  2002-03-22  9999-01-01  \n",
      "318727  2001-03-22  2002-03-22  \n",
      "360032  2002-07-14  9999-01-01  \n",
      "943635  2000-02-12  2001-02-11  \n",
      "943637  2002-02-11  9999-01-01  \n",
      "...            ...         ...  \n",
      "234513  1990-10-03  1991-10-03  \n",
      "383554  1996-09-22  1997-09-22  \n",
      "514589  1989-10-20  1990-10-20  \n",
      "55309   2001-03-12  2002-03-12  \n",
      "372370  1996-09-17  1997-09-17  \n",
      "\n",
      "[967330 rows x 9 columns]\n"
     ]
    }
   ],
   "source": [
    "emp_salary = pd.merge(employees_e, salaries_s, on=\"emp_no\")\n",
    "highest_salary = emp_salary.sort_values(by=\"salary\", ascending=False)\n",
    "print(highest_salary)"
   ]
  },
  {
   "cell_type": "code",
   "execution_count": null,
   "id": "19e34db3-ff95-4d99-bd1c-d2e9cd9a6a9f",
   "metadata": {},
   "outputs": [],
   "source": []
  },
  {
   "cell_type": "code",
   "execution_count": null,
   "id": "cc7cd144-dae0-4492-ad4c-6741de2caef0",
   "metadata": {},
   "outputs": [],
   "source": [
    "#Q.10 List departments which currently don't have a manager assigned."
   ]
  },
  {
   "cell_type": "code",
   "execution_count": 107,
   "id": "e08f1150-d1a7-4619-88e0-7a7110fbd80b",
   "metadata": {},
   "outputs": [
    {
     "name": "stdout",
     "output_type": "stream",
     "text": [
      "  dept_no           dept_name\n",
      "0    d009    Customer Service\n",
      "1    d005         Development\n",
      "2    d002             Finance\n",
      "3    d003     Human Resources\n",
      "4    d001           Marketing\n",
      "5    d004          Production\n",
      "6    d006  Quality Management\n",
      "7    d008            Research\n",
      "8    d007               Sales\n"
     ]
    }
   ],
   "source": [
    "curr_manager = dept_manager_dm[dept_manager_dm[\"to_date\"] == \"9999-01-01\"]\n",
    "merge = pd.merge(curr_manager, departments_d, on=\"dept_no\", how=\"right\")\n",
    "no_manager = merge[merge[\"emp_no\"].isna()]\n",
    "result = no_manager[[\"dept_no\", \"dept_name\"]]\n",
    "print(result)"
   ]
  },
  {
   "cell_type": "code",
   "execution_count": null,
   "id": "eae4e426-a34b-4387-af9c-8b0933fd3342",
   "metadata": {},
   "outputs": [],
   "source": []
  },
  {
   "cell_type": "code",
   "execution_count": 4,
   "id": "2ba6f098-8ea2-49eb-ae8f-9d5f003b65bd",
   "metadata": {},
   "outputs": [],
   "source": [
    "#Q.11 Trend of average salary year-wise across the company."
   ]
  },
  {
   "cell_type": "code",
   "execution_count": 132,
   "id": "3878ed59-61e6-4ed9-a0b3-b3e0fface05f",
   "metadata": {},
   "outputs": [
    {
     "name": "stdout",
     "output_type": "stream",
     "text": [
      "    year        salary\n",
      "0   1985  53419.776250\n",
      "1   1986  54303.321742\n",
      "2   1987  55036.680852\n",
      "3   1988  55865.363190\n",
      "4   1989  56781.014351\n",
      "5   1990  57783.804562\n",
      "6   1991  58742.613292\n",
      "7   1992  59679.225045\n",
      "8   1993  60656.125052\n",
      "9   1994  61643.287093\n",
      "10  1995  62584.015074\n",
      "11  1996  63547.501804\n",
      "12  1997  64478.140581\n",
      "13  1998  65494.420380\n",
      "14  1999  66501.251952\n",
      "15  2000  68515.573929\n",
      "16  2001  70647.821233\n",
      "17  2002  72622.588354\n"
     ]
    }
   ],
   "source": [
    "salaries_s[\"year\"] = pd.to_datetime(salaries_s[\"from_date\"]).dt.year\n",
    "avg_salary_by_year = salaries_s.groupby(\"year\")[\"salary\"].mean().reset_index()\n",
    "print(avg_salary_by_year)"
   ]
  },
  {
   "cell_type": "code",
   "execution_count": null,
   "id": "434291c5-2be9-4684-9aef-4d9d2b5fb034",
   "metadata": {},
   "outputs": [],
   "source": []
  },
  {
   "cell_type": "code",
   "execution_count": null,
   "id": "9efb6416-870b-4966-a185-1bbcc3bc18c6",
   "metadata": {},
   "outputs": [],
   "source": [
    "#Q.12 Find employees who changed titles over time."
   ]
  },
  {
   "cell_type": "code",
   "execution_count": 134,
   "id": "f3fc5ddd-7e15-4363-a58a-f37ff11b3e86",
   "metadata": {},
   "outputs": [
    {
     "name": "stdout",
     "output_type": "stream",
     "text": [
      "        emp_no first_name  last_name  title\n",
      "0        10004  Chirstian    Koblick      2\n",
      "1        10005    Kyoichi   Maliniak      2\n",
      "2        10007    Tzvetan  Zielinski      2\n",
      "3        10009     Sumant       Peac      3\n",
      "4        10012   Patricio  Bridgland      2\n",
      "...        ...        ...        ...    ...\n",
      "140265  499988   Bangqing    Kleiser      2\n",
      "140266  499992     Siamak   Salverda      2\n",
      "140267  499996       Zito       Baaz      2\n",
      "140268  499997    Berhard     Lenart      2\n",
      "140269  499998   Patricia    Breugel      2\n",
      "\n",
      "[140270 rows x 4 columns]\n"
     ]
    }
   ],
   "source": [
    "titles_t[\"from_date\"] = pd.to_datetime(titles_t[\"from_date\"])\n",
    "titles_t = titles_t.sort_values(by=[\"emp_no\", \"from_date\"])\n",
    "title_change = titles_t.groupby(\"emp_no\")[\"title\"].nunique().reset_index()\n",
    "title_change_emp = title_change[title_change[\"title\"] > 1]\n",
    "result = pd.merge(title_change_emp, employees_e, on='emp_no', how='inner')\n",
    "result = result[[\"emp_no\", \"first_name\", \"last_name\", \"title\"]]\n",
    "print(result)"
   ]
  },
  {
   "cell_type": "code",
   "execution_count": null,
   "id": "ff52bf8a-2fc4-4858-80da-4ec2f1e98744",
   "metadata": {},
   "outputs": [],
   "source": []
  },
  {
   "cell_type": "code",
   "execution_count": null,
   "id": "8787f798-ee5a-40d7-ab1a-6c78c32a2dca",
   "metadata": {},
   "outputs": [],
   "source": [
    "#Q.13 Compare average salary of male vs female employees for each department."
   ]
  },
  {
   "cell_type": "code",
   "execution_count": 33,
   "id": "8c47aa58-35f8-4d62-89bc-b12c0f40f6aa",
   "metadata": {},
   "outputs": [
    {
     "name": "stdout",
     "output_type": "stream",
     "text": [
      "dept_name           gender\n",
      "Customer Service    F         58998.725316\n",
      "                    M         58590.990909\n",
      "Development         F         59391.952061\n",
      "                    M         59576.334350\n",
      "Finance             F         69914.920151\n",
      "                    M         70327.028019\n",
      "Human Resources     F         55596.374912\n",
      "                    M         55196.550297\n",
      "Marketing           F         71464.475047\n",
      "                    M         72198.192617\n",
      "Production          F         59455.999051\n",
      "                    M         59596.357507\n",
      "Quality Management  F         57423.311558\n",
      "                    M         57206.895155\n",
      "Research            F         59712.779945\n",
      "                    M         59965.769015\n",
      "Sales               F         80626.556859\n",
      "                    M         80879.758464\n",
      "Name: salary, dtype: float64\n"
     ]
    }
   ],
   "source": [
    "emp_sal = pd.merge(employees_e, salaries_s, on= \"emp_no\")\n",
    "dept_sal = pd.merge(emp_sal, dept_emp_de, on=\"emp_no\")\n",
    "emp_dept = pd.merge(dept_sal, departments_d, on=\"dept_no\")\n",
    "\n",
    "avg_salary = emp_dept.groupby([\"dept_name\", \"gender\"])[\"salary\"].mean()\n",
    "print(avg_salary)"
   ]
  },
  {
   "cell_type": "code",
   "execution_count": null,
   "id": "bab68835-2626-4588-8e86-6ddd2df0e3eb",
   "metadata": {},
   "outputs": [],
   "source": []
  },
  {
   "cell_type": "code",
   "execution_count": null,
   "id": "cd837df1-9d98-4ced-884e-ea3722073e7c",
   "metadata": {},
   "outputs": [],
   "source": [
    "#Q.14 Find departments where average salary is above overall company average."
   ]
  },
  {
   "cell_type": "code",
   "execution_count": 51,
   "id": "55beb0da-b000-432f-ba9b-1faf0c147bca",
   "metadata": {},
   "outputs": [
    {
     "name": "stdout",
     "output_type": "stream",
     "text": [
      "overall average salary: 63771.92011442427\n",
      "\n",
      "Departments with above average salary:\n",
      "dept_name\n",
      "Finance      70159.466220\n",
      "Marketing    71901.723674\n",
      "Sales        80776.620397\n",
      "Name: salary, dtype: float64\n"
     ]
    }
   ],
   "source": [
    "emp_salary =  pd.merge(dept_emp_de, salaries_s, on=\"emp_no\")\n",
    "dept_emp_salary = pd.merge(emp_salary, departments_d, on=\"dept_no\")\n",
    "\n",
    "overall_salary = dept_emp_salary[\"salary\"].mean()\n",
    "\n",
    "dept_avg_salary = dept_emp_salary.groupby(\"dept_name\")[\"salary\"].mean()\n",
    "\n",
    "above_avg_depts = dept_avg_salary[dept_avg_salary > overall_salary]\n",
    "\n",
    "print(\"overall average salary:\",overall_salary)\n",
    "print(\"\\nDepartments with above average salary:\")\n",
    "print(above_avg_depts)"
   ]
  },
  {
   "cell_type": "code",
   "execution_count": null,
   "id": "dc2f6005-481c-431d-b86b-004f45731f87",
   "metadata": {},
   "outputs": [],
   "source": []
  },
  {
   "cell_type": "code",
   "execution_count": 131,
   "id": "f8f2ca2e-25bd-42e7-a64e-61238b9d27e6",
   "metadata": {},
   "outputs": [],
   "source": [
    "#Q.15 Top 5 employees with the most job title changes."
   ]
  },
  {
   "cell_type": "code",
   "execution_count": 133,
   "id": "7516a69d-4349-44d2-b0dc-7d64154e037a",
   "metadata": {},
   "outputs": [
    {
     "name": "stdout",
     "output_type": "stream",
     "text": [
      "first_name\n",
      "Dung           7\n",
      "Leon           7\n",
      "Arie           7\n",
      "Przemyslawa    7\n",
      "Isamu          7\n",
      "Name: title, dtype: int64\n"
     ]
    }
   ],
   "source": [
    "emp_title = pd.merge(employees_e, titles_t, on=\"emp_no\")\n",
    "\n",
    "title_change = emp_title.groupby(\"first_name\")[\"title\"].nunique().sort_values(ascending=False)\n",
    "\n",
    "top5 =  title_change.head(5)\n",
    "print(top5)"
   ]
  },
  {
   "cell_type": "code",
   "execution_count": null,
   "id": "15445868-0fd8-4cdf-89ce-4865decdd97b",
   "metadata": {},
   "outputs": [],
   "source": []
  },
  {
   "cell_type": "code",
   "execution_count": null,
   "id": "50457b87-a59e-466f-8c02-60b0de40c078",
   "metadata": {},
   "outputs": [],
   "source": []
  }
 ],
 "metadata": {
  "kernelspec": {
   "display_name": "Python [conda env:base] *",
   "language": "python",
   "name": "conda-base-py"
  },
  "language_info": {
   "codemirror_mode": {
    "name": "ipython",
    "version": 3
   },
   "file_extension": ".py",
   "mimetype": "text/x-python",
   "name": "python",
   "nbconvert_exporter": "python",
   "pygments_lexer": "ipython3",
   "version": "3.12.7"
  }
 },
 "nbformat": 4,
 "nbformat_minor": 5
}
